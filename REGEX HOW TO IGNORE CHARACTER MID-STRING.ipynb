{
 "cells": [
  {
   "cell_type": "code",
   "execution_count": 9,
   "id": "2eab7124",
   "metadata": {},
   "outputs": [],
   "source": [
    "phones = '''LeBroooon James: 123-111-212\n",
    "Dd Wade: 391-399-128\n",
    "Steve Curry: 188381887\n",
    "Kk Durant: 212-212212\n",
    "Jon Harden: 371*371&196\n",
    "Kiwi Leonard: -192-182-736-\n",
    "Power George: 8198-18-817'''\n"
   ]
  },
  {
   "cell_type": "code",
   "execution_count": 10,
   "id": "9196a346",
   "metadata": {},
   "outputs": [],
   "source": [
    "import re"
   ]
  },
  {
   "cell_type": "code",
   "execution_count": 6,
   "id": "0ce6fbdd",
   "metadata": {
    "scrolled": true
   },
   "outputs": [
    {
     "name": "stdout",
     "output_type": "stream",
     "text": [
      "['123', '111', '212', '391', '399', '128', '188', '381', '887', '212', '212', '212', '371', '371', '196', '192', '182', '736', '819', '8-18', '817']\n"
     ]
    }
   ],
   "source": [
    "number = re.compile(r'\\d{3}|\\d[-]?\\d{2}', re.M)\n",
    "print(number.findall(phones))\n",
    "\n",
    "\n"
   ]
  },
  {
   "cell_type": "code",
   "execution_count": null,
   "id": "467b944d",
   "metadata": {},
   "outputs": [],
   "source": [
    "import re\n",
    "\n",
    "key = re.compile(r'(\\w+\\s\\w+):',re.M)\n",
    "dict_key = key.findall(phones)\n",
    "\n",
    "number = re.compile(r'\\d{3}|\\d[-]?\\d{2}', re.M)\n",
    "value = number.findall(phones)\n",
    "for i in range(len(value)):\n",
    "    value[i] = value[i].replace('-','')\n",
    "\n",
    "dict_value =[]\n",
    "j = 0\n",
    "while j < len(value)-2:\n",
    "    a = value[j] +'-' + value[j+1] + '-'+ value[j+2]  \n",
    "    dict_value.append(a)\n",
    "    j += 3\n",
    "\n",
    "templist = zip(dict_key , dict_value)\n",
    "\n",
    "result_dict = dict(templist)\n",
    "print (result_dict)\n"
   ]
  },
  {
   "cell_type": "code",
   "execution_count": null,
   "id": "5cdc0483",
   "metadata": {},
   "outputs": [],
   "source": []
  },
  {
   "cell_type": "code",
   "execution_count": 16,
   "id": "67b567ee",
   "metadata": {},
   "outputs": [
    {
     "name": "stdout",
     "output_type": "stream",
     "text": [
      "[('1', '2', '3', '1', '1', '1', '2', '1', '2'), ('3', '9', '1', '3', '9', '9', '1', '2', '8'), ('1', '8', '8', '3', '8', '1', '8', '8', '7'), ('2', '1', '2', '2', '1', '2', '2', '1', '2'), ('3', '7', '1', '3', '7', '1', '1', '9', '6'), ('1', '9', '2', '1', '8', '2', '7', '3', '6'), ('8', '1', '9', '8', '1', '8', '8', '1', '7')]\n"
     ]
    }
   ],
   "source": [
    "regex = re.compile(r\"\\D?(\\d)\\D?(\\d)\\D*(\\d)\\D*(\\d)\\D*(\\d)\\D*(\\d)\\D*(\\d)\\D*(\\d)\\D*(\\d)\\-?\" , re.M)\n",
    "print(regex.findall(phones))\n"
   ]
  },
  {
   "cell_type": "code",
   "execution_count": 17,
   "id": "dc211d70",
   "metadata": {},
   "outputs": [],
   "source": [
    "subst = \" \\\\1\\\\2\\\\3-\\\\4\\\\5\\\\6-\\\\7\\\\8\\\\9\""
   ]
  },
  {
   "cell_type": "code",
   "execution_count": 21,
   "id": "56c7c66a",
   "metadata": {},
   "outputs": [
    {
     "name": "stdout",
     "output_type": "stream",
     "text": [
      "LeBroooon James: 123-111-212\n",
      "Dd Wade: 391-399-128\n",
      "Steve Curry: 188-381-887\n",
      "Kk Durant: 212-212-212\n",
      "Jon Harden: 371-371-196\n",
      "Kiwi Leonard:  192-182-736\n",
      "Power George: 819-818-817\n"
     ]
    }
   ],
   "source": [
    "result = re.sub(regex, subst, phones, 0)\n",
    "\n",
    "if result:\n",
    "    print (result)"
   ]
  },
  {
   "cell_type": "code",
   "execution_count": null,
   "id": "0aeb0050",
   "metadata": {},
   "outputs": [],
   "source": []
  }
 ],
 "metadata": {
  "kernelspec": {
   "display_name": "Python 3 (ipykernel)",
   "language": "python",
   "name": "python3"
  },
  "language_info": {
   "codemirror_mode": {
    "name": "ipython",
    "version": 3
   },
   "file_extension": ".py",
   "mimetype": "text/x-python",
   "name": "python",
   "nbconvert_exporter": "python",
   "pygments_lexer": "ipython3",
   "version": "3.9.7"
  }
 },
 "nbformat": 4,
 "nbformat_minor": 5
}
