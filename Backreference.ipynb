{
 "cells": [
  {
   "cell_type": "markdown",
   "metadata": {},
   "source": [
    "### Exercise"
   ]
  },
  {
   "cell_type": "markdown",
   "metadata": {},
   "source": [
    "Match all the words that contains at least one character that appears more than once from the given text."
   ]
  },
  {
   "cell_type": "code",
   "execution_count": 4,
   "metadata": {},
   "outputs": [
    {
     "data": {
      "text/plain": [
       "[('contains', 'n'), ('criminals', 'i')]"
      ]
     },
     "execution_count": 4,
     "metadata": {},
     "output_type": "execute_result"
    }
   ],
   "source": [
    "import re\n",
    "p = re.compile(r'(\\w+(\\w)\\w*\\2+\\w*)') # remove the underline and fill in your code\n",
    "\n",
    "p.findall('The group contains some of the most dangerous criminals in the country.')"
   ]
  },
  {
   "cell_type": "code",
   "execution_count": 46,
   "metadata": {},
   "outputs": [],
   "source": [
    "#overall (\\w+\\w\\w*\\w*) is the group to capture all the words in the string (words only, separated by spaces) \n",
    "#the 2nd (\\w) will capture the one character / words / numbers, then \\w* will capture the remaining characters (until \\2)\n",
    "#grouping the 2nd (\\w) will capture 1 word, then all the next words captured by \\w* will be used to match against the first captured group\n",
    "#example first word captured \\w is 'n', \\w* captured all the subsequent letter in the words 'ntain', will be 'ntain'\n",
    "#then the '\\2' we match each of the words in 'tain' versus the first '\\w' (aka. 'n')\n",
    "#the first \\w and the last \\w* after \\2, will be used to capture the first few characters of the words (con) and (s)\n"
   ]
  },
  {
   "cell_type": "markdown",
   "metadata": {},
   "source": [
    "### Exercise 3.16"
   ]
  },
  {
   "cell_type": "markdown",
   "metadata": {},
   "source": [
    "Match all the words that contain at least 3 vowel letters (‘aeiou’) from the given text."
   ]
  },
  {
   "cell_type": "code",
   "execution_count": 50,
   "metadata": {
    "scrolled": true
   },
   "outputs": [
    {
     "data": {
      "text/plain": [
       "[('contains', 'ins'), ('dangerous', 'us'), ('criminals', 'als')]"
      ]
     },
     "execution_count": 50,
     "metadata": {},
     "output_type": "execute_result"
    }
   ],
   "source": [
    "p = re.compile(r'((\\w*[aeuio]\\w*){3,})') # remove the underline and fill in your code\n",
    "\n",
    "p.findall('The group contains some of the most dangerous criminals in the country.')\n"
   ]
  },
  {
   "cell_type": "code",
   "execution_count": null,
   "metadata": {},
   "outputs": [],
   "source": [
    "#https://regex101.com/r/W5BqVu/1"
   ]
  },
  {
   "cell_type": "code",
   "execution_count": null,
   "metadata": {},
   "outputs": [],
   "source": []
  }
 ],
 "metadata": {
  "kernelspec": {
   "display_name": "Python 3 (ipykernel)",
   "language": "python",
   "name": "python3"
  },
  "language_info": {
   "codemirror_mode": {
    "name": "ipython",
    "version": 3
   },
   "file_extension": ".py",
   "mimetype": "text/x-python",
   "name": "python",
   "nbconvert_exporter": "python",
   "pygments_lexer": "ipython3",
   "version": "3.9.7"
  }
 },
 "nbformat": 4,
 "nbformat_minor": 4
}
